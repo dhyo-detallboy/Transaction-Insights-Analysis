{
 "cells": [
  {
   "cell_type": "markdown",
   "metadata": {},
   "source": [
    "## Transaction Insights Analysis\n",
    "- By Alif Dio Af'Ally"
   ]
  },
  {
   "cell_type": "markdown",
   "metadata": {},
   "source": [
    "### Import Library"
   ]
  },
  {
   "cell_type": "code",
   "execution_count": 1,
   "metadata": {},
   "outputs": [],
   "source": [
    "import pandas as pd\n",
    "import matplotlib.pyplot as plt\n",
    "import seaborn as sns"
   ]
  },
  {
   "cell_type": "markdown",
   "metadata": {},
   "source": [
    "### Data Wrangling\n",
    "\n",
    "    - File Name : transactions.csv\n",
    "    - File Type : .csv\n",
    "    - Total Entries : 1000\n",
    "    - Link Dataset yang Digunakan: [UPI Payment Transactions Dataset](https://www.kaggle.com/datasets/devildyno/upi-payment-transactions-dataset)\n"
   ]
  },
  {
   "cell_type": "markdown",
   "metadata": {},
   "source": [
    "- Gathering Data"
   ]
  },
  {
   "cell_type": "code",
   "execution_count": 2,
   "metadata": {},
   "outputs": [],
   "source": [
    "# Load Data \"transactions.csv\"\n",
    "df = pd.read_csv('transactions.csv')"
   ]
  },
  {
   "cell_type": "code",
   "execution_count": 3,
   "metadata": {},
   "outputs": [
    {
     "data": {
      "text/html": [
       "<div>\n",
       "<style scoped>\n",
       "    .dataframe tbody tr th:only-of-type {\n",
       "        vertical-align: middle;\n",
       "    }\n",
       "\n",
       "    .dataframe tbody tr th {\n",
       "        vertical-align: top;\n",
       "    }\n",
       "\n",
       "    .dataframe thead th {\n",
       "        text-align: right;\n",
       "    }\n",
       "</style>\n",
       "<table border=\"1\" class=\"dataframe\">\n",
       "  <thead>\n",
       "    <tr style=\"text-align: right;\">\n",
       "      <th></th>\n",
       "      <th>Transaction ID</th>\n",
       "      <th>Timestamp</th>\n",
       "      <th>Sender Name</th>\n",
       "      <th>Sender UPI ID</th>\n",
       "      <th>Receiver Name</th>\n",
       "      <th>Receiver UPI ID</th>\n",
       "      <th>Amount (INR)</th>\n",
       "      <th>Status</th>\n",
       "    </tr>\n",
       "  </thead>\n",
       "  <tbody>\n",
       "    <tr>\n",
       "      <th>0</th>\n",
       "      <td>4d3db980-46cd-4158-a812-dcb77055d0d2</td>\n",
       "      <td>2024-06-22 04:06:38</td>\n",
       "      <td>Tiya Mall</td>\n",
       "      <td>4161803452@okaxis</td>\n",
       "      <td>Mohanlal Golla</td>\n",
       "      <td>7776849307@okybl</td>\n",
       "      <td>3907.34</td>\n",
       "      <td>FAILED</td>\n",
       "    </tr>\n",
       "    <tr>\n",
       "      <th>1</th>\n",
       "      <td>099ee548-2fc1-4811-bf92-559c467ca792</td>\n",
       "      <td>2024-06-19 06:04:49</td>\n",
       "      <td>Mohanlal Bakshi</td>\n",
       "      <td>8908837379@okaxis</td>\n",
       "      <td>Mehul Sankaran</td>\n",
       "      <td>7683454560@okaxis</td>\n",
       "      <td>8404.55</td>\n",
       "      <td>SUCCESS</td>\n",
       "    </tr>\n",
       "    <tr>\n",
       "      <th>2</th>\n",
       "      <td>d4c05732-6b1b-4bab-90b9-efe09d252b99</td>\n",
       "      <td>2024-06-04 04:56:09</td>\n",
       "      <td>Kismat Bora</td>\n",
       "      <td>4633654150@okybl</td>\n",
       "      <td>Diya Goel</td>\n",
       "      <td>2598130823@okicici</td>\n",
       "      <td>941.88</td>\n",
       "      <td>SUCCESS</td>\n",
       "    </tr>\n",
       "    <tr>\n",
       "      <th>3</th>\n",
       "      <td>e8df92ee-8b04-4133-af5a-5f412180c8ab</td>\n",
       "      <td>2024-06-09 09:56:07</td>\n",
       "      <td>Ayesha Korpal</td>\n",
       "      <td>7018842771@okhdfcbank</td>\n",
       "      <td>Rhea Kothari</td>\n",
       "      <td>2246623650@okaxis</td>\n",
       "      <td>8926.00</td>\n",
       "      <td>SUCCESS</td>\n",
       "    </tr>\n",
       "    <tr>\n",
       "      <th>4</th>\n",
       "      <td>e7d675d3-04f1-419c-a841-7a04662560b7</td>\n",
       "      <td>2024-06-25 08:38:19</td>\n",
       "      <td>Jivin Batta</td>\n",
       "      <td>1977143985@okybl</td>\n",
       "      <td>Baiju Issac</td>\n",
       "      <td>5245672729@okybl</td>\n",
       "      <td>2800.55</td>\n",
       "      <td>SUCCESS</td>\n",
       "    </tr>\n",
       "  </tbody>\n",
       "</table>\n",
       "</div>"
      ],
      "text/plain": [
       "                         Transaction ID            Timestamp      Sender Name  \\\n",
       "0  4d3db980-46cd-4158-a812-dcb77055d0d2  2024-06-22 04:06:38        Tiya Mall   \n",
       "1  099ee548-2fc1-4811-bf92-559c467ca792  2024-06-19 06:04:49  Mohanlal Bakshi   \n",
       "2  d4c05732-6b1b-4bab-90b9-efe09d252b99  2024-06-04 04:56:09      Kismat Bora   \n",
       "3  e8df92ee-8b04-4133-af5a-5f412180c8ab  2024-06-09 09:56:07    Ayesha Korpal   \n",
       "4  e7d675d3-04f1-419c-a841-7a04662560b7  2024-06-25 08:38:19      Jivin Batta   \n",
       "\n",
       "           Sender UPI ID   Receiver Name     Receiver UPI ID  Amount (INR)  \\\n",
       "0      4161803452@okaxis  Mohanlal Golla    7776849307@okybl       3907.34   \n",
       "1      8908837379@okaxis  Mehul Sankaran   7683454560@okaxis       8404.55   \n",
       "2       4633654150@okybl       Diya Goel  2598130823@okicici        941.88   \n",
       "3  7018842771@okhdfcbank    Rhea Kothari   2246623650@okaxis       8926.00   \n",
       "4       1977143985@okybl     Baiju Issac    5245672729@okybl       2800.55   \n",
       "\n",
       "    Status  \n",
       "0   FAILED  \n",
       "1  SUCCESS  \n",
       "2  SUCCESS  \n",
       "3  SUCCESS  \n",
       "4  SUCCESS  "
      ]
     },
     "execution_count": 3,
     "metadata": {},
     "output_type": "execute_result"
    }
   ],
   "source": [
    "# Menampilkan 5 baris awal data \"transactions.csv\"\n",
    "df.head()"
   ]
  },
  {
   "cell_type": "code",
   "execution_count": 4,
   "metadata": {},
   "outputs": [
    {
     "data": {
      "text/html": [
       "<div>\n",
       "<style scoped>\n",
       "    .dataframe tbody tr th:only-of-type {\n",
       "        vertical-align: middle;\n",
       "    }\n",
       "\n",
       "    .dataframe tbody tr th {\n",
       "        vertical-align: top;\n",
       "    }\n",
       "\n",
       "    .dataframe thead th {\n",
       "        text-align: right;\n",
       "    }\n",
       "</style>\n",
       "<table border=\"1\" class=\"dataframe\">\n",
       "  <thead>\n",
       "    <tr style=\"text-align: right;\">\n",
       "      <th></th>\n",
       "      <th>Transaction ID</th>\n",
       "      <th>Timestamp</th>\n",
       "      <th>Sender Name</th>\n",
       "      <th>Sender UPI ID</th>\n",
       "      <th>Receiver Name</th>\n",
       "      <th>Receiver UPI ID</th>\n",
       "      <th>Amount (INR)</th>\n",
       "      <th>Status</th>\n",
       "    </tr>\n",
       "  </thead>\n",
       "  <tbody>\n",
       "    <tr>\n",
       "      <th>995</th>\n",
       "      <td>843d87b5-902e-4336-9438-aa76d74e13e4</td>\n",
       "      <td>2024-07-03 23:15:06</td>\n",
       "      <td>Anay Karan</td>\n",
       "      <td>7041132054@okhdfcbank</td>\n",
       "      <td>Dhanush Salvi</td>\n",
       "      <td>7858014473@okicici</td>\n",
       "      <td>9270.15</td>\n",
       "      <td>SUCCESS</td>\n",
       "    </tr>\n",
       "    <tr>\n",
       "      <th>996</th>\n",
       "      <td>2dbbb577-4617-44b1-9a51-5fdf18ebb2ab</td>\n",
       "      <td>2024-06-15 15:42:57</td>\n",
       "      <td>Nirvaan Aurora</td>\n",
       "      <td>1200592114@okybl</td>\n",
       "      <td>Faiyaz Kara</td>\n",
       "      <td>2795494339@okhdfcbank</td>\n",
       "      <td>2278.32</td>\n",
       "      <td>FAILED</td>\n",
       "    </tr>\n",
       "    <tr>\n",
       "      <th>997</th>\n",
       "      <td>7c38e684-5968-432e-8acb-5bbe0f718fad</td>\n",
       "      <td>2024-06-18 17:27:37</td>\n",
       "      <td>Bhamini Srinivasan</td>\n",
       "      <td>6922445535@okicici</td>\n",
       "      <td>Mishti Kala</td>\n",
       "      <td>5207563362@okybl</td>\n",
       "      <td>4857.89</td>\n",
       "      <td>FAILED</td>\n",
       "    </tr>\n",
       "    <tr>\n",
       "      <th>998</th>\n",
       "      <td>27624b55-fd6d-45ce-bbc5-0c2958d48865</td>\n",
       "      <td>2024-06-05 21:57:36</td>\n",
       "      <td>Krish Kohli</td>\n",
       "      <td>4638471232@okhdfcbank</td>\n",
       "      <td>Sahil Bail</td>\n",
       "      <td>9348631179@okaxis</td>\n",
       "      <td>9475.68</td>\n",
       "      <td>FAILED</td>\n",
       "    </tr>\n",
       "    <tr>\n",
       "      <th>999</th>\n",
       "      <td>b792bf64-2047-4435-aac1-27ee95b134d6</td>\n",
       "      <td>2024-06-21 15:52:40</td>\n",
       "      <td>Diya Trivedi</td>\n",
       "      <td>0385561234@oksbi</td>\n",
       "      <td>Dhanuk Mane</td>\n",
       "      <td>1884708567@okhdfcbank</td>\n",
       "      <td>1426.60</td>\n",
       "      <td>SUCCESS</td>\n",
       "    </tr>\n",
       "  </tbody>\n",
       "</table>\n",
       "</div>"
      ],
      "text/plain": [
       "                           Transaction ID            Timestamp  \\\n",
       "995  843d87b5-902e-4336-9438-aa76d74e13e4  2024-07-03 23:15:06   \n",
       "996  2dbbb577-4617-44b1-9a51-5fdf18ebb2ab  2024-06-15 15:42:57   \n",
       "997  7c38e684-5968-432e-8acb-5bbe0f718fad  2024-06-18 17:27:37   \n",
       "998  27624b55-fd6d-45ce-bbc5-0c2958d48865  2024-06-05 21:57:36   \n",
       "999  b792bf64-2047-4435-aac1-27ee95b134d6  2024-06-21 15:52:40   \n",
       "\n",
       "            Sender Name          Sender UPI ID  Receiver Name  \\\n",
       "995          Anay Karan  7041132054@okhdfcbank  Dhanush Salvi   \n",
       "996      Nirvaan Aurora       1200592114@okybl    Faiyaz Kara   \n",
       "997  Bhamini Srinivasan     6922445535@okicici    Mishti Kala   \n",
       "998         Krish Kohli  4638471232@okhdfcbank     Sahil Bail   \n",
       "999        Diya Trivedi       0385561234@oksbi    Dhanuk Mane   \n",
       "\n",
       "           Receiver UPI ID  Amount (INR)   Status  \n",
       "995     7858014473@okicici       9270.15  SUCCESS  \n",
       "996  2795494339@okhdfcbank       2278.32   FAILED  \n",
       "997       5207563362@okybl       4857.89   FAILED  \n",
       "998      9348631179@okaxis       9475.68   FAILED  \n",
       "999  1884708567@okhdfcbank       1426.60  SUCCESS  "
      ]
     },
     "execution_count": 4,
     "metadata": {},
     "output_type": "execute_result"
    }
   ],
   "source": [
    "# Menampilkan 5 baris akhir data \"transactions.csv\"\n",
    "df.tail()"
   ]
  },
  {
   "cell_type": "markdown",
   "metadata": {},
   "source": [
    "- Asessing Data"
   ]
  },
  {
   "cell_type": "code",
   "execution_count": 5,
   "metadata": {},
   "outputs": [
    {
     "name": "stdout",
     "output_type": "stream",
     "text": [
      "<class 'pandas.core.frame.DataFrame'>\n",
      "RangeIndex: 1000 entries, 0 to 999\n",
      "Data columns (total 8 columns):\n",
      " #   Column           Non-Null Count  Dtype  \n",
      "---  ------           --------------  -----  \n",
      " 0   Transaction ID   1000 non-null   object \n",
      " 1   Timestamp        1000 non-null   object \n",
      " 2   Sender Name      1000 non-null   object \n",
      " 3   Sender UPI ID    1000 non-null   object \n",
      " 4   Receiver Name    1000 non-null   object \n",
      " 5   Receiver UPI ID  1000 non-null   object \n",
      " 6   Amount (INR)     1000 non-null   float64\n",
      " 7   Status           1000 non-null   object \n",
      "dtypes: float64(1), object(7)\n",
      "memory usage: 62.6+ KB\n"
     ]
    }
   ],
   "source": [
    "# Memeriksa tipe data dari tiap kolom di \"transactions.csv\"\n",
    "df.info()"
   ]
  },
  {
   "cell_type": "code",
   "execution_count": 6,
   "metadata": {},
   "outputs": [
    {
     "data": {
      "text/plain": [
       "Transaction ID     0\n",
       "Timestamp          0\n",
       "Sender Name        0\n",
       "Sender UPI ID      0\n",
       "Receiver Name      0\n",
       "Receiver UPI ID    0\n",
       "Amount (INR)       0\n",
       "Status             0\n",
       "dtype: int64"
      ]
     },
     "execution_count": 6,
     "metadata": {},
     "output_type": "execute_result"
    }
   ],
   "source": [
    "# Memeriksa apakah terdapat \"Missing Value\"\n",
    "df.isna().sum()"
   ]
  },
  {
   "cell_type": "code",
   "execution_count": 7,
   "metadata": {},
   "outputs": [
    {
     "name": "stdout",
     "output_type": "stream",
     "text": [
      "Jumlah Data Duplikat :  0\n"
     ]
    }
   ],
   "source": [
    "# Memeriksa apakah terdapat \"Data Duplikat\"\n",
    "print(\"Jumlah Data Duplikat : \", df.duplicated().sum())"
   ]
  },
  {
   "cell_type": "markdown",
   "metadata": {},
   "source": [
    "- Hasil Identifikasi Awal Data\n",
    "\n",
    "Berikut ini merupakan hasil identifikasi dari data yang akan digunakan\n",
    "\n",
    "| Tipe Data       | Missing Value | Duplicate Data | Inaccurate Value\n",
    "|:---------------:|:------------:|:-----------:|:-----------:|\n",
    "| Terdapat kesalahan tipe data di kolom \"Timestamp | Tidak Ada | Tidak Ada | Tidak Ada |\n",
    "\n"
   ]
  },
  {
   "cell_type": "markdown",
   "metadata": {},
   "source": [
    "- Data Cleaning"
   ]
  },
  {
   "cell_type": "code",
   "execution_count": 8,
   "metadata": {},
   "outputs": [],
   "source": [
    "# Konversi kolom Timestamp menjadi datetime\n",
    "df['Timestamp'] = pd.to_datetime(df['Timestamp'])"
   ]
  },
  {
   "cell_type": "code",
   "execution_count": 9,
   "metadata": {},
   "outputs": [
    {
     "name": "stdout",
     "output_type": "stream",
     "text": [
      "<class 'pandas.core.frame.DataFrame'>\n",
      "RangeIndex: 1000 entries, 0 to 999\n",
      "Data columns (total 8 columns):\n",
      " #   Column           Non-Null Count  Dtype         \n",
      "---  ------           --------------  -----         \n",
      " 0   Transaction ID   1000 non-null   object        \n",
      " 1   Timestamp        1000 non-null   datetime64[ns]\n",
      " 2   Sender Name      1000 non-null   object        \n",
      " 3   Sender UPI ID    1000 non-null   object        \n",
      " 4   Receiver Name    1000 non-null   object        \n",
      " 5   Receiver UPI ID  1000 non-null   object        \n",
      " 6   Amount (INR)     1000 non-null   float64       \n",
      " 7   Status           1000 non-null   object        \n",
      "dtypes: datetime64[ns](1), float64(1), object(6)\n",
      "memory usage: 62.6+ KB\n"
     ]
    }
   ],
   "source": [
    "# Memastikan tipe data kolom \"Timestamp\" sudah terganti\n",
    "df.info()"
   ]
  },
  {
   "cell_type": "markdown",
   "metadata": {},
   "source": [
    "### EDA (Exploratory Data Analysis) "
   ]
  },
  {
   "cell_type": "markdown",
   "metadata": {},
   "source": [
    "- Persentase transaksi gagal"
   ]
  },
  {
   "cell_type": "code",
   "execution_count": 10,
   "metadata": {},
   "outputs": [
    {
     "data": {
      "text/plain": [
       "'Persentase Transaksi Gagal : 49.80%'"
      ]
     },
     "execution_count": 10,
     "metadata": {},
     "output_type": "execute_result"
    }
   ],
   "source": [
    "# Persentase transaksi gagal\n",
    "fail_transactions = df[df['Status'] == 'FAILED']\n",
    "total_transactions = len(df)\n",
    "percent_fail = len(fail_transactions) / total_transactions * 100\n",
    "\n",
    "# Output\n",
    "(f'Persentase Transaksi Gagal : {percent_fail:.2f}%')"
   ]
  },
  {
   "cell_type": "markdown",
   "metadata": {},
   "source": [
    "- Rata-rata jumlah uang pada transaksi gagal"
   ]
  },
  {
   "cell_type": "code",
   "execution_count": 11,
   "metadata": {},
   "outputs": [
    {
     "name": "stdout",
     "output_type": "stream",
     "text": [
      "Rata-rata Jumlah Uang pada Transaksi Gagal: 4938.69\n"
     ]
    }
   ],
   "source": [
    "average_fail_amount = fail_transactions['Amount (INR)'].mean()\n",
    "\n",
    "# Output\n",
    "print(f'Rata-rata Jumlah Uang pada Transaksi Gagal: {average_fail_amount:.2f}')"
   ]
  },
  {
   "cell_type": "markdown",
   "metadata": {},
   "source": [
    "- Tren Transaksi Gagal Berdasarkan Jam"
   ]
  },
  {
   "cell_type": "code",
   "execution_count": 12,
   "metadata": {},
   "outputs": [
    {
     "name": "stdout",
     "output_type": "stream",
     "text": [
      "Hour\n",
      "0     26\n",
      "1     14\n",
      "2     18\n",
      "3     22\n",
      "4     26\n",
      "5     21\n",
      "6     12\n",
      "7     14\n",
      "8     20\n",
      "9     18\n",
      "10    18\n",
      "11    26\n",
      "12    19\n",
      "13    24\n",
      "14    24\n",
      "15    24\n",
      "16    31\n",
      "17    18\n",
      "18    27\n",
      "19    20\n",
      "20    24\n",
      "21    17\n",
      "22    22\n",
      "23    13\n",
      "dtype: int64\n"
     ]
    }
   ],
   "source": [
    "# Menambahkan kolom Hour dari Timestamp\n",
    "df['Hour'] = df['Timestamp'].dt.hour\n",
    "\n",
    "# Analisis Tren Gagal Berdasarkan Jam\n",
    "failed_transactions = df[df['Status'] == 'FAILED']\n",
    "failed_transactions_by_hour = failed_transactions.groupby('Hour').size()\n",
    "\n",
    "# Menampilkan tren transaksi gagal berdasarkan jam\n",
    "print(failed_transactions_by_hour)\n"
   ]
  },
  {
   "cell_type": "markdown",
   "metadata": {},
   "source": [
    "### Visualisasi Data"
   ]
  },
  {
   "cell_type": "markdown",
   "metadata": {},
   "source": [
    "- Persentase Status Transaksi \"Success\" dan \"Failed\""
   ]
  },
  {
   "cell_type": "code",
   "execution_count": 13,
   "metadata": {},
   "outputs": [
    {
     "data": {
      "image/png": "[encoded data removed]",
      "text/plain": [
       "<Figure size 640x480 with 1 Axes>"
      ]
     },
     "metadata": {},
     "output_type": "display_data"
    }
   ],
   "source": [
    "# Pie Chart Distribusi Status Transaksi\n",
    "status_counts = df['Status'].value_counts()\n",
    "status_counts.plot(kind='pie', autopct='%1.1f%%', startangle=90, title='Distribusi Status Transaksi')\n",
    "plt.ylabel('')\n",
    "plt.show()"
   ]
  },
  {
   "cell_type": "markdown",
   "metadata": {},
   "source": [
    "- Tren Harian Transaksi Gagal"
   ]
  },
  {
   "cell_type": "code",
   "execution_count": 14,
   "metadata": {},
   "outputs": [
    {
     "data": {
      "image/png": "[encoded data removed]",
      "text/plain": [
       "<Figure size 640x480 with 1 Axes>"
      ]
     },
     "metadata": {},
     "output_type": "display_data"
    }
   ],
   "source": [
    "# Line Chart Tren Harian Transaksi Gagal\n",
    "failed_by_day = failed_transactions.groupby(failed_transactions['Timestamp'].dt.date).size()\n",
    "failed_by_day.plot(kind='line', marker='o', title=\"Tren Harian Transaksi Gagal\", xlabel=\"Tanggal\", ylabel=\"Jumlah Transaksi Gagal\")\n",
    "\n",
    "# Menyesuaikan label X agar tidak bertumpuk\n",
    "plt.xticks(rotation=45, ticks=failed_by_day.index[::2])\n",
    "\n",
    "plt.show()\n"
   ]
  },
  {
   "cell_type": "markdown",
   "metadata": {},
   "source": [
    "- Tren Transaksi Gagal Berdasarkan Jam"
   ]
  },
  {
   "cell_type": "code",
   "execution_count": 15,
   "metadata": {},
   "outputs": [
    {
     "data": {
      "image/png": "[encoded data removed]",
      "text/plain": [
       "<Figure size 640x480 with 1 Axes>"
      ]
     },
     "metadata": {},
     "output_type": "display_data"
    }
   ],
   "source": [
    "# Visualisasi menggunakan Bar Chart\n",
    "failed_transactions_by_hour.plot(kind='bar', title=\"Tren Transaksi Gagal Berdasarkan Jam\")\n",
    "plt.xlabel(\"Jam\")\n",
    "plt.ylabel(\"Jumlah Transaksi Gagal\")\n",
    "plt.show()"
   ]
  },
  {
   "cell_type": "markdown",
   "metadata": {},
   "source": [
    "### Insight "
   ]
  },
  {
   "cell_type": "markdown",
   "metadata": {},
   "source": [
    "Berdasarkan hasil analisis pada dataset **\"transaction.csv\"**, ditemukan bahwa hampir separuh dari total transaksi yang dilakukan mengalami kegagalan, dengan persentase kegagalan mencapai **49,8%**. Kegagalan tertinggi tercatat pada **tanggal 10 Juni 2024**, sementara kegagalan terendah terjadi pada **tanggal 24 Juni 2024**. Pada analisis kegagalan transaksi berdasarkan jam, ditemukan bahwa **jam 16:00** mencatatkan jumlah kegagalan terbanyak, yaitu **31 kasus**, sedangkan **jam 06:00** mencatatkan jumlah kegagalan paling sedikit, yaitu **12 kasus**. Selain itu, rata-rata nominal transaksi gagal adalah **4938.69 INR (Indian Rupee)**.\n",
    "\n",
    "##### Saran Perbaikan:\n",
    "1. Melakukan **audit sistem** untuk meningkatkan keandalan transaksi.\n",
    "2. Meningkatkan **kapasitas sistem** pada jam sibuk, terutama pada jam **16:00**.\n",
    "3. Memperbaiki sistem **verifikasi dan validasi transaksi** untuk mengurangi kegagalan.\n",
    "4. Memberikan **komunikasi yang jelas** kepada pengguna terkait pemeliharaan sistem atau gangguan yang dapat memengaruhi transaksi.\n"
   ]
  }
 ],
 "metadata": {
  "kernelspec": {
   "display_name": "Python 3",
   "language": "python",
   "name": "python3"
  },
  "language_info": {
   "codemirror_mode": {
    "name": "ipython",
    "version": 3
   },
   "file_extension": ".py",
   "mimetype": "text/x-python",
   "name": "python",
   "nbconvert_exporter": "python",
   "pygments_lexer": "ipython3",
   "version": "3.9.1"
  }
 },
 "nbformat": 4,
 "nbformat_minor": 2
}
